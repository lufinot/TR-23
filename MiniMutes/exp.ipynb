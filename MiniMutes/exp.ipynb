{
 "cells": [
  {
   "cell_type": "code",
   "execution_count": 120,
   "metadata": {},
   "outputs": [],
   "source": [
    "import pandas as pd\n",
    "import boto3\n",
    "import botocore"
   ]
  },
  {
   "cell_type": "code",
   "execution_count": 30,
   "metadata": {},
   "outputs": [],
   "source": [
    "s3 = boto3.client('s3')"
   ]
  },
  {
   "cell_type": "code",
   "execution_count": 19,
   "metadata": {},
   "outputs": [],
   "source": [
    "bucket_name = 'icgc-eh-bucket'\n",
    "object_key = \"results/aws/{object_id}.json\"\n"
   ]
  },
  {
   "cell_type": "code",
   "execution_count": 118,
   "metadata": {},
   "outputs": [],
   "source": [
    "awsmani = pd.read_csv('manifests/aws.tsv', sep='\\t')\n",
    "pdcmani = pd.read_csv('manifests/pdc.tsv', sep='\\t')\n",
    "mani = pd.concat([awsmani, pdcmani])"
   ]
  },
  {
   "cell_type": "code",
   "execution_count": 119,
   "metadata": {},
   "outputs": [
    {
     "data": {
      "text/html": [
       "<div>\n",
       "<style scoped>\n",
       "    .dataframe tbody tr th:only-of-type {\n",
       "        vertical-align: middle;\n",
       "    }\n",
       "\n",
       "    .dataframe tbody tr th {\n",
       "        vertical-align: top;\n",
       "    }\n",
       "\n",
       "    .dataframe thead th {\n",
       "        text-align: right;\n",
       "    }\n",
       "</style>\n",
       "<table border=\"1\" class=\"dataframe\">\n",
       "  <thead>\n",
       "    <tr style=\"text-align: right;\">\n",
       "      <th></th>\n",
       "      <th>icgc_donor_id</th>\n",
       "      <th>case_object_id</th>\n",
       "      <th>control_object_id</th>\n",
       "      <th>case_file_name</th>\n",
       "      <th>control_file_name</th>\n",
       "      <th>sex</th>\n",
       "      <th>histology_abbreviation</th>\n",
       "    </tr>\n",
       "  </thead>\n",
       "  <tbody>\n",
       "    <tr>\n",
       "      <th>0</th>\n",
       "      <td>DO1000</td>\n",
       "      <td>9793d1f6-799d-5556-8bbe-9bb5d740d5c8</td>\n",
       "      <td>57b3e912-fcbc-5e8c-a62a-cbfbfd927a7c</td>\n",
       "      <td>121a58e9b8cfbdf897434a1134f7fb6c.bam</td>\n",
       "      <td>487853b446a82b6d270716ea5ae1633d.bam</td>\n",
       "      <td>female</td>\n",
       "      <td>Breast-DCIS</td>\n",
       "    </tr>\n",
       "    <tr>\n",
       "      <th>1</th>\n",
       "      <td>DO1001</td>\n",
       "      <td>ee9d1804-f6ab-5348-9384-fc30ba74b128</td>\n",
       "      <td>17f1c219-040e-5925-88bf-faa0e661592f</td>\n",
       "      <td>2b845b723d691204a14e5bddc2d73e55.bam</td>\n",
       "      <td>83f31e082cc17e5b14cf8b07afdc89ca.bam</td>\n",
       "      <td>female</td>\n",
       "      <td>Breast-AdenoCA</td>\n",
       "    </tr>\n",
       "    <tr>\n",
       "      <th>2</th>\n",
       "      <td>DO1002</td>\n",
       "      <td>eff6d922-a774-57be-a41c-dfe28ca0b84a</td>\n",
       "      <td>ba1a24fa-be07-519c-95fc-8fb317ff7a3c</td>\n",
       "      <td>d71f32b81cdc2b244002beedfe8af310.bam</td>\n",
       "      <td>e19b256847e1bf578a05608ad2e4ef64.bam</td>\n",
       "      <td>female</td>\n",
       "      <td>Breast-AdenoCA</td>\n",
       "    </tr>\n",
       "    <tr>\n",
       "      <th>3</th>\n",
       "      <td>DO1003</td>\n",
       "      <td>0740ad42-603e-5926-a390-07f23f30a908</td>\n",
       "      <td>24bd82eb-6a16-5b12-9bd7-f7604c636dc6</td>\n",
       "      <td>47fb91c726f5d03bfdf1b387ccce8aaf.bam</td>\n",
       "      <td>9b853d15dfbfe1b9f3eaad9b039107e4.bam</td>\n",
       "      <td>female</td>\n",
       "      <td>Breast-AdenoCA</td>\n",
       "    </tr>\n",
       "    <tr>\n",
       "      <th>4</th>\n",
       "      <td>DO1004</td>\n",
       "      <td>ecdc095c-f6cc-5916-bdac-2dcbe9609e52</td>\n",
       "      <td>4f6ef9ea-9575-5c65-9497-38db620a23b8</td>\n",
       "      <td>99d91eaa92214a3809350b7acad4aaf2.bam</td>\n",
       "      <td>cd68ee9c75a886ddf4baa9ee504089fc.bam</td>\n",
       "      <td>female</td>\n",
       "      <td>Breast-AdenoCA</td>\n",
       "    </tr>\n",
       "  </tbody>\n",
       "</table>\n",
       "</div>"
      ],
      "text/plain": [
       "  icgc_donor_id                        case_object_id  \\\n",
       "0        DO1000  9793d1f6-799d-5556-8bbe-9bb5d740d5c8   \n",
       "1        DO1001  ee9d1804-f6ab-5348-9384-fc30ba74b128   \n",
       "2        DO1002  eff6d922-a774-57be-a41c-dfe28ca0b84a   \n",
       "3        DO1003  0740ad42-603e-5926-a390-07f23f30a908   \n",
       "4        DO1004  ecdc095c-f6cc-5916-bdac-2dcbe9609e52   \n",
       "\n",
       "                      control_object_id                        case_file_name  \\\n",
       "0  57b3e912-fcbc-5e8c-a62a-cbfbfd927a7c  121a58e9b8cfbdf897434a1134f7fb6c.bam   \n",
       "1  17f1c219-040e-5925-88bf-faa0e661592f  2b845b723d691204a14e5bddc2d73e55.bam   \n",
       "2  ba1a24fa-be07-519c-95fc-8fb317ff7a3c  d71f32b81cdc2b244002beedfe8af310.bam   \n",
       "3  24bd82eb-6a16-5b12-9bd7-f7604c636dc6  47fb91c726f5d03bfdf1b387ccce8aaf.bam   \n",
       "4  4f6ef9ea-9575-5c65-9497-38db620a23b8  99d91eaa92214a3809350b7acad4aaf2.bam   \n",
       "\n",
       "                      control_file_name     sex histology_abbreviation  \n",
       "0  487853b446a82b6d270716ea5ae1633d.bam  female            Breast-DCIS  \n",
       "1  83f31e082cc17e5b14cf8b07afdc89ca.bam  female         Breast-AdenoCA  \n",
       "2  e19b256847e1bf578a05608ad2e4ef64.bam  female         Breast-AdenoCA  \n",
       "3  9b853d15dfbfe1b9f3eaad9b039107e4.bam  female         Breast-AdenoCA  \n",
       "4  cd68ee9c75a886ddf4baa9ee504089fc.bam  female         Breast-AdenoCA  "
      ]
     },
     "execution_count": 119,
     "metadata": {},
     "output_type": "execute_result"
    }
   ],
   "source": [
    "mani.head()"
   ]
  },
  {
   "cell_type": "code",
   "execution_count": 28,
   "metadata": {},
   "outputs": [
    {
     "name": "stdout",
     "output_type": "stream",
     "text": [
      "exams/ccf30f0f-0ec1-5aa2-8eb3-14cb1f4f58cd.json\n",
      "File downloaded successfully!\n",
      "exams/0b894f0a-0f97-5b6b-8585-9b15e49013b6.json\n",
      "File downloaded successfully!\n",
      "exams/124c8c1f-70a9-5335-a096-75f32cd76d75.json\n",
      "File downloaded successfully!\n",
      "exams/fdd88637-7046-5dd0-829e-42f3b3f4ddf9.json\n",
      "File downloaded successfully!\n",
      "exams/566b1bcc-97fd-59ca-9c8f-e98f5dea4152.json\n",
      "File downloaded successfully!\n"
     ]
    }
   ],
   "source": [
    "local_file_path = 'exams/{object_id}.json'  # Specify the desired local file path\n",
    "\n",
    "for obj_id in awsmani['object_id'].head(4):\n",
    "    try:\n",
    "        # Specify the desired local file path with the correct formatting\n",
    "        local_file_path = f'exams/{obj_id}.json'\n",
    "        print(local_file_path)\n",
    "        s3.download_file(bucket_name, object_key.format(object_id=obj_id), local_file_path)\n",
    "        print(\"File downloaded successfully!\")\n",
    "    except botocore.exceptions.ClientError as e:\n",
    "        if e.response['Error']['Code'] == \"404\":\n",
    "            print(\"The object does not exist.\")\n",
    "        else:\n",
    "            raise"
   ]
  },
  {
   "cell_type": "code",
   "execution_count": 126,
   "metadata": {},
   "outputs": [],
   "source": [
    "ndjson = pd.read_json('data/ndjson_examples/0b894f0a-0f97-5b6b-8585-9b15e49013b6.ndjson', lines=True)\n",
    "result = mani[(mani['case_object_id'] == '0b894f0a-0f97-5b6b-8585-9b15e49013b6') | (mani['control_object_id'] == '0b894f0a-0f97-5b6b-8585-9b15e49013b6')]"
   ]
  },
  {
   "cell_type": "code",
   "execution_count": 127,
   "metadata": {},
   "outputs": [
    {
     "data": {
      "text/html": [
       "<div>\n",
       "<style scoped>\n",
       "    .dataframe tbody tr th:only-of-type {\n",
       "        vertical-align: middle;\n",
       "    }\n",
       "\n",
       "    .dataframe tbody tr th {\n",
       "        vertical-align: top;\n",
       "    }\n",
       "\n",
       "    .dataframe thead th {\n",
       "        text-align: right;\n",
       "    }\n",
       "</style>\n",
       "<table border=\"1\" class=\"dataframe\">\n",
       "  <thead>\n",
       "    <tr style=\"text-align: right;\">\n",
       "      <th></th>\n",
       "      <th>icgc_donor_id</th>\n",
       "      <th>case_object_id</th>\n",
       "      <th>control_object_id</th>\n",
       "      <th>case_file_name</th>\n",
       "      <th>control_file_name</th>\n",
       "      <th>sex</th>\n",
       "      <th>histology_abbreviation</th>\n",
       "    </tr>\n",
       "  </thead>\n",
       "  <tbody>\n",
       "    <tr>\n",
       "      <th>51</th>\n",
       "      <td>DO217850</td>\n",
       "      <td>ccf30f0f-0ec1-5aa2-8eb3-14cb1f4f58cd</td>\n",
       "      <td>0b894f0a-0f97-5b6b-8585-9b15e49013b6</td>\n",
       "      <td>daeaabe3ad65b6b6b494caf2e280a79e.bam</td>\n",
       "      <td>eb62d67453bbc1e8cf861ca19bdf7f5a.bam</td>\n",
       "      <td>female</td>\n",
       "      <td>Biliary-AdenoCA</td>\n",
       "    </tr>\n",
       "  </tbody>\n",
       "</table>\n",
       "</div>"
      ],
      "text/plain": [
       "   icgc_donor_id                        case_object_id  \\\n",
       "51      DO217850  ccf30f0f-0ec1-5aa2-8eb3-14cb1f4f58cd   \n",
       "\n",
       "                       control_object_id  \\\n",
       "51  0b894f0a-0f97-5b6b-8585-9b15e49013b6   \n",
       "\n",
       "                          case_file_name  \\\n",
       "51  daeaabe3ad65b6b6b494caf2e280a79e.bam   \n",
       "\n",
       "                       control_file_name     sex histology_abbreviation  \n",
       "51  eb62d67453bbc1e8cf861ca19bdf7f5a.bam  female        Biliary-AdenoCA  "
      ]
     },
     "execution_count": 127,
     "metadata": {},
     "output_type": "execute_result"
    }
   ],
   "source": [
    "result"
   ]
  },
  {
   "cell_type": "code",
   "execution_count": null,
   "metadata": {},
   "outputs": [],
   "source": []
  }
 ],
 "metadata": {
  "kernelspec": {
   "display_name": "cenv",
   "language": "python",
   "name": "python3"
  },
  "language_info": {
   "codemirror_mode": {
    "name": "ipython",
    "version": 3
   },
   "file_extension": ".py",
   "mimetype": "text/x-python",
   "name": "python",
   "nbconvert_exporter": "python",
   "pygments_lexer": "ipython3",
   "version": "3.10.9"
  },
  "orig_nbformat": 4
 },
 "nbformat": 4,
 "nbformat_minor": 2
}
