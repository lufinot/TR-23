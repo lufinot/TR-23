{
 "cells": [
  {
   "cell_type": "code",
   "execution_count": 5,
   "metadata": {},
   "outputs": [],
   "source": [
    "import pandas as pd\n",
    "import numpy as np\n"
   ]
  },
  {
   "cell_type": "code",
   "execution_count": 3,
   "metadata": {},
   "outputs": [
    {
     "data": {
      "text/plain": [
       "(2506, 7)"
      ]
     },
     "execution_count": 3,
     "metadata": {},
     "output_type": "execute_result"
    }
   ],
   "source": [
    "# Load the manifest\n",
    "mani = pd.read_csv('manifests/manifest.csv')\n",
    "mani.shape\n",
    "\n"
   ]
  },
  {
   "cell_type": "code",
   "execution_count": 4,
   "metadata": {},
   "outputs": [
    {
     "data": {
      "text/plain": [
       "icgc_donor_id                                           DO1005\n",
       "case_object_id            0b4573e7-6c69-5996-86de-463036d6589b\n",
       "control_object_id         2b1b2587-1f4e-5918-872f-b87bac0c2429\n",
       "case_file_name            b6ee98f353017df7d1354ae22fc9e3dc.bam\n",
       "control_file_name         228a53b73d2c63eb66530b172cb65b41.bam\n",
       "sex                                                     female\n",
       "histology_abbreviation                          Breast-AdenoCA\n",
       "Name: 5, dtype: object"
      ]
     },
     "execution_count": 4,
     "metadata": {},
     "output_type": "execute_result"
    }
   ],
   "source": [
    "mani.iloc[5]"
   ]
  },
  {
   "cell_type": "code",
   "execution_count": 10,
   "metadata": {},
   "outputs": [],
   "source": [
    "# Load the data and split the genotype column into two numeric columns\n",
    "def process_dataframe(path):\n",
    "    # Load the data\n",
    "    df = pd.read_json(path, lines=True)\n",
    "\n",
    "    # Apply add_slash to the 'genotype' column\n",
    "    df['genotype'] = df['genotype'].astype('string').apply(add_slash)\n",
    "\n",
    "    # Split the 'genotype' column into two\n",
    "    df[['genotype1', 'genotype2']] = df['genotype'].str.split('/', expand=True)\n",
    "\n",
    "    # Convert genotypes to numeric, errors='coerce' will convert invalid parsing to NaN\n",
    "    df[['genotype1', 'genotype2']] = df[['genotype1', 'genotype2']].apply(pd.to_numeric, errors='coerce')\n",
    "\n",
    "    return df\n",
    "\n",
    "\n",
    "\n",
    "# if there is no slash in the string, make it 'orginal/original'\n",
    "def add_slash(string):\n",
    "    if pd.isna(string):\n",
    "        return string\n",
    "    elif '/' not in string:\n",
    "        return '{}/{}'.format(string, string)\n",
    "    else:\n",
    "        return string\n",
    "    \n",
    "    \n",
    "# Load the data and subtract the genotype columns\n",
    "def load_and_diff(sample):\n",
    "    path_format = 'data/ndjson_examples/examples/{id}.ndjson'\n",
    "    # Use the helper function to process the dataframes\n",
    "    dfn = process_dataframe(path_format.format(id=sample['control_object_id']))\n",
    "    dft = process_dataframe(path_format.format(id=sample['case_object_id']))\n",
    "\n",
    "    # Subtract genotype1 and genotype2 columns in both dataframes\n",
    "    print(dfn['genotype1'])\n",
    "    diff1 = dfn['genotype1'].subtract(dft['genotype1'])\n",
    "    diff2 = dfn['genotype2'].subtract(dft['genotype2'])\n",
    "\n",
    "    # Create a new DataFrame from these Series\n",
    "    row_names = ['0' + sample['icgc_donor_id'], '1' + sample['icgc_donor_id']]\n",
    "    diff_df = pd.DataFrame([diff1, diff2], index = row_names)\n",
    "    diff_df.columns = dfn['region']\n",
    "    diff_df.insert(0, 'sample_id', sample['icgc_donor_id'])\n",
    "\n",
    "    return diff_df\n",
    "\n"
   ]
  },
  {
   "cell_type": "code",
   "execution_count": 37,
   "metadata": {},
   "outputs": [],
   "source": [
    "manifest = pd.read_csv('manifests/manifest.csv')"
   ]
  },
  {
   "cell_type": "code",
   "execution_count": 38,
   "metadata": {},
   "outputs": [
    {
     "data": {
      "text/plain": [
       "(2506, 7)"
      ]
     },
     "execution_count": 38,
     "metadata": {},
     "output_type": "execute_result"
    }
   ],
   "source": [
    "manifest.shape"
   ]
  },
  {
   "cell_type": "code",
   "execution_count": 39,
   "metadata": {},
   "outputs": [],
   "source": [
    "empties = pd.read_csv('data/other/empties.txt', header=None)"
   ]
  },
  {
   "cell_type": "code",
   "execution_count": 51,
   "metadata": {},
   "outputs": [],
   "source": [
    "# remove the rows from manifest where either the case or control is in the empties list\n",
    "case = manifest['case_object_id'].isin(empties[0])\n",
    "control = manifest['control_object_id'].isin(empties[0])"
   ]
  },
  {
   "cell_type": "code",
   "execution_count": 53,
   "metadata": {},
   "outputs": [],
   "source": [
    "# remove the rows from manifest where either the case or control is in the empties list\n",
    "manifest = manifest[~(case | control)]"
   ]
  },
  {
   "cell_type": "code",
   "execution_count": 54,
   "metadata": {},
   "outputs": [
    {
     "data": {
      "text/plain": [
       "(2487, 7)"
      ]
     },
     "execution_count": 54,
     "metadata": {},
     "output_type": "execute_result"
    }
   ],
   "source": [
    "manifest.shape"
   ]
  },
  {
   "cell_type": "code",
   "execution_count": 55,
   "metadata": {},
   "outputs": [],
   "source": [
    "manifest.to_csv('manifests/manifest.csv', index=False)"
   ]
  },
  {
   "cell_type": "code",
   "execution_count": null,
   "metadata": {},
   "outputs": [],
   "source": [
    "\n",
    "# Group the DataFrame by the desired column\n",
    "groups = mani.groupby('column_name')\n",
    "\n",
    "# Iterate over the groups and save them as files\n",
    "for name, group in groups:\n",
    "    group.to_csv(f'manifests/by_cancer/{name}.csv', index=False)\n"
   ]
  }
 ],
 "metadata": {
  "kernelspec": {
   "display_name": "cenv",
   "language": "python",
   "name": "python3"
  },
  "language_info": {
   "codemirror_mode": {
    "name": "ipython",
    "version": 3
   },
   "file_extension": ".py",
   "mimetype": "text/x-python",
   "name": "python",
   "nbconvert_exporter": "python",
   "pygments_lexer": "ipython3",
   "version": "3.10.9"
  },
  "orig_nbformat": 4
 },
 "nbformat": 4,
 "nbformat_minor": 2
}
