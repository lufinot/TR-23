{
 "cells": [
  {
   "cell_type": "code",
   "execution_count": 29,
   "metadata": {},
   "outputs": [],
   "source": [
    "import pandas as pd\n",
    "import numpy as np\n",
    "import boto3\n",
    "import botocore\n",
    "import json"
   ]
  },
  {
   "cell_type": "code",
   "execution_count": 36,
   "metadata": {},
   "outputs": [],
   "source": [
    "from glob import glob"
   ]
  },
  {
   "cell_type": "code",
   "execution_count": 30,
   "metadata": {},
   "outputs": [],
   "source": [
    "s3 = boto3.client('s3')"
   ]
  },
  {
   "cell_type": "code",
   "execution_count": null,
   "metadata": {},
   "outputs": [],
   "source": []
  },
  {
   "cell_type": "code",
   "execution_count": null,
   "metadata": {},
   "outputs": [],
   "source": [
    "# Loading raw Manifests\n",
    "awsmani = pd.read_csv('manifests/aws.tsv', sep='\\t')\n",
    "pdcmani = pd.read_csv('manifests/pdc.tsv', sep='\\t')\n",
    "fullmani = pd.read_csv('manifests/full.csv')\n",
    "fullmani.rename(columns={'donor_id/donor_count':'icgc_donor_id', 'Case (Tumor) or Control (Normal)':'type', }, inplace=True)\n",
    "pdcmani.rename(columns={'guid': 'object_id'}, inplace=True)\n"
   ]
  },
  {
   "cell_type": "code",
   "execution_count": null,
   "metadata": {},
   "outputs": [],
   "source": [
    "# Checking for duplicates\n",
    "duplicates = fullmani.duplicated(subset=['icgc_donor_id', 'type'], keep=False)\n",
    "dup_rows = fullmani[duplicates]\n",
    "print(dup_rows.groupby('histology_abbreviation').size())\n",
    "print(dup_rows.groupby('type').size())\n",
    "print(duplicates.sum())\n",
    "\n",
    "# Removing duplicates\n",
    "awsmani_no_dupes = awsmani[~awsmani['icgc_donor_id'].isin(dup_rows['icgc_donor_id'])]\n",
    "pdcmani_no_dupes = pdcmani[~pdcmani['icgc_donor_id'].isin(dup_rows['icgc_donor_id'])]\n"
   ]
  },
  {
   "cell_type": "code",
   "execution_count": null,
   "metadata": {},
   "outputs": [],
   "source": [
    "\n",
    "# pivot the dataframes\n",
    "aws_df = awsmani_no_dupes.pivot(index='icgc_donor_id', columns='type', values=['object_id', 'file_name', 'sex'])\n",
    "aws_df.columns = [f'{j}_{i}' for i, j in aws_df.columns]\n",
    "aws_df['sex'] = aws_df['case_sex']\n",
    "aws_df = aws_df.drop(columns=['case_sex', 'control_sex'])\n",
    "aws_df = aws_df.reset_index()\n",
    "\n",
    "pdc_df = pdcmani_no_dupes.pivot(index='icgc_donor_id', columns='type', values=['object_id', 'file_name', 'sex'])\n",
    "pdc_df.columns = [f'{j}_{i}' for i, j in pdc_df.columns]\n",
    "pdc_df['sex'] = pdc_df['case_sex']\n",
    "pdc_df = pdc_df.drop(columns=['case_sex', 'control_sex'])\n",
    "pdc_df = pdc_df.reset_index()\n",
    "pdc_final_mani = pd.merge(pdc_df, fullmani[['icgc_donor_id', 'histology_abbreviation']], on='icgc_donor_id', how='left')\n",
    "aws_final_mani = pd.merge(aws_df, fullmani[['icgc_donor_id', 'histology_abbreviation']], on='icgc_donor_id', how='left')\n"
   ]
  },
  {
   "cell_type": "code",
   "execution_count": null,
   "metadata": {},
   "outputs": [],
   "source": [
    "def transform_data(data, full_data, name):\n",
    "    # pivot the dataframe\n",
    "    df = data.pivot(index='icgc_donor_id', columns='type', values=['object_id', 'file_name', 'sex'])\n",
    "    df.columns = [f'{j}_{i}' for i, j in df.columns]\n",
    "    df['sex'] = df['case_sex']\n",
    "    df.drop(columns=['case_sex', 'control_sex'], inplace=True)\n",
    "    df.reset_index(inplace=True)\n",
    "    # merge with full_data\n",
    "    final_df = pd.merge(df, full_data[['icgc_donor_id', 'histology_abbreviation']], on='icgc_donor_id', how='left')\n",
    "    return final_df\n",
    "\n",
    "# load data\n",
    "aws_data, pdc_data, full_data = load_data('manifests/aws.tsv', 'manifests/pdc.tsv', 'manifests/full.csv')\n",
    "\n",
    "# check for duplicates\n",
    "duplicates = full_data.duplicated(subset=['icgc_donor_id', 'Case (Tumor) or Control (Normal)'], keep=False)\n",
    "\n",
    "# print info about duplicates\n",
    "dup_rows = full_data[duplicates]\n",
    "print(dup_rows.groupby('histology_abbreviation').size())\n",
    "print(dup_rows.groupby('Case (Tumor) or Control (Normal)').size())\n",
    "print(duplicates.sum())\n",
    "\n",
    "# remove duplicates\n",
    "aws_data_no_dupes = remove_duplicates(aws_data, dup_rows)\n",
    "pdc_data_no_dupes = remove_duplicates(pdc_data, dup_rows)\n",
    "\n",
    "# rename columns\n",
    "pdc_data_no_dupes.rename(columns={'guid': 'object_id'}, inplace=True)\n",
    "\n",
    "# transform and merge data\n",
    "aws_final_data = transform_data(aws_data_no_dupes, full_data, 'aws')\n",
    "pdc_final_data = transform_data(pdc_data_no_dupes, full_data, 'pdc')\n"
   ]
  },
  {
   "cell_type": "code",
   "execution_count": 100,
   "metadata": {},
   "outputs": [
    {
     "data": {
      "text/html": [
       "<div>\n",
       "<style scoped>\n",
       "    .dataframe tbody tr th:only-of-type {\n",
       "        vertical-align: middle;\n",
       "    }\n",
       "\n",
       "    .dataframe tbody tr th {\n",
       "        vertical-align: top;\n",
       "    }\n",
       "\n",
       "    .dataframe thead th {\n",
       "        text-align: right;\n",
       "    }\n",
       "</style>\n",
       "<table border=\"1\" class=\"dataframe\">\n",
       "  <thead>\n",
       "    <tr style=\"text-align: right;\">\n",
       "      <th></th>\n",
       "      <th>icgc_donor_id</th>\n",
       "      <th>case_object_id</th>\n",
       "      <th>control_object_id</th>\n",
       "      <th>case_file_name</th>\n",
       "      <th>control_file_name</th>\n",
       "      <th>sex</th>\n",
       "      <th>histology_abbreviation</th>\n",
       "    </tr>\n",
       "  </thead>\n",
       "  <tbody>\n",
       "    <tr>\n",
       "      <th>0</th>\n",
       "      <td>DO10172</td>\n",
       "      <td>ec5c919a-188e-428e-836d-58b2564eae28</td>\n",
       "      <td>9d6494f8-6967-4543-82b5-9fb0931816de</td>\n",
       "      <td>PCAWG.402285b1-01fb-4ae6-8cdc-aab1d479f31b.bam</td>\n",
       "      <td>PCAWG.54ce9151-3bee-4305-a954-d233c7ddff9a.bam</td>\n",
       "      <td>male</td>\n",
       "      <td>ColoRect-AdenoCA</td>\n",
       "    </tr>\n",
       "    <tr>\n",
       "      <th>1</th>\n",
       "      <td>DO10172</td>\n",
       "      <td>ec5c919a-188e-428e-836d-58b2564eae28</td>\n",
       "      <td>9d6494f8-6967-4543-82b5-9fb0931816de</td>\n",
       "      <td>PCAWG.402285b1-01fb-4ae6-8cdc-aab1d479f31b.bam</td>\n",
       "      <td>PCAWG.54ce9151-3bee-4305-a954-d233c7ddff9a.bam</td>\n",
       "      <td>male</td>\n",
       "      <td>ColoRect-AdenoCA</td>\n",
       "    </tr>\n",
       "    <tr>\n",
       "      <th>2</th>\n",
       "      <td>DO10486</td>\n",
       "      <td>017d09fe-0e6b-4136-afeb-02c1d396ccff</td>\n",
       "      <td>298be5c5-0e30-430b-a221-8a0c8ff4695e</td>\n",
       "      <td>PCAWG.b687ab8e-8210-469c-a914-2299c00443ef.bam</td>\n",
       "      <td>PCAWG.9fc66d8c-133d-430f-8a2e-2d1a11e7ef8d.bam</td>\n",
       "      <td>female</td>\n",
       "      <td>ColoRect-AdenoCA</td>\n",
       "    </tr>\n",
       "    <tr>\n",
       "      <th>3</th>\n",
       "      <td>DO10486</td>\n",
       "      <td>017d09fe-0e6b-4136-afeb-02c1d396ccff</td>\n",
       "      <td>298be5c5-0e30-430b-a221-8a0c8ff4695e</td>\n",
       "      <td>PCAWG.b687ab8e-8210-469c-a914-2299c00443ef.bam</td>\n",
       "      <td>PCAWG.9fc66d8c-133d-430f-8a2e-2d1a11e7ef8d.bam</td>\n",
       "      <td>female</td>\n",
       "      <td>ColoRect-AdenoCA</td>\n",
       "    </tr>\n",
       "    <tr>\n",
       "      <th>4</th>\n",
       "      <td>DO10631</td>\n",
       "      <td>993c9300-c693-485e-a8fb-0181cd8c3bfc</td>\n",
       "      <td>ac2471f9-9d0f-44be-a53e-f01144e69a0a</td>\n",
       "      <td>PCAWG.b2f57308-2c3c-41a0-b866-c3cb60a82b1e.bam</td>\n",
       "      <td>PCAWG.c95c1fe9-c156-4c41-ac14-f07214e5e613.bam</td>\n",
       "      <td>female</td>\n",
       "      <td>ColoRect-AdenoCA</td>\n",
       "    </tr>\n",
       "  </tbody>\n",
       "</table>\n",
       "</div>"
      ],
      "text/plain": [
       "  icgc_donor_id                        case_object_id  \\\n",
       "0       DO10172  ec5c919a-188e-428e-836d-58b2564eae28   \n",
       "1       DO10172  ec5c919a-188e-428e-836d-58b2564eae28   \n",
       "2       DO10486  017d09fe-0e6b-4136-afeb-02c1d396ccff   \n",
       "3       DO10486  017d09fe-0e6b-4136-afeb-02c1d396ccff   \n",
       "4       DO10631  993c9300-c693-485e-a8fb-0181cd8c3bfc   \n",
       "\n",
       "                      control_object_id  \\\n",
       "0  9d6494f8-6967-4543-82b5-9fb0931816de   \n",
       "1  9d6494f8-6967-4543-82b5-9fb0931816de   \n",
       "2  298be5c5-0e30-430b-a221-8a0c8ff4695e   \n",
       "3  298be5c5-0e30-430b-a221-8a0c8ff4695e   \n",
       "4  ac2471f9-9d0f-44be-a53e-f01144e69a0a   \n",
       "\n",
       "                                   case_file_name  \\\n",
       "0  PCAWG.402285b1-01fb-4ae6-8cdc-aab1d479f31b.bam   \n",
       "1  PCAWG.402285b1-01fb-4ae6-8cdc-aab1d479f31b.bam   \n",
       "2  PCAWG.b687ab8e-8210-469c-a914-2299c00443ef.bam   \n",
       "3  PCAWG.b687ab8e-8210-469c-a914-2299c00443ef.bam   \n",
       "4  PCAWG.b2f57308-2c3c-41a0-b866-c3cb60a82b1e.bam   \n",
       "\n",
       "                                control_file_name     sex  \\\n",
       "0  PCAWG.54ce9151-3bee-4305-a954-d233c7ddff9a.bam    male   \n",
       "1  PCAWG.54ce9151-3bee-4305-a954-d233c7ddff9a.bam    male   \n",
       "2  PCAWG.9fc66d8c-133d-430f-8a2e-2d1a11e7ef8d.bam  female   \n",
       "3  PCAWG.9fc66d8c-133d-430f-8a2e-2d1a11e7ef8d.bam  female   \n",
       "4  PCAWG.c95c1fe9-c156-4c41-ac14-f07214e5e613.bam  female   \n",
       "\n",
       "  histology_abbreviation  \n",
       "0       ColoRect-AdenoCA  \n",
       "1       ColoRect-AdenoCA  \n",
       "2       ColoRect-AdenoCA  \n",
       "3       ColoRect-AdenoCA  \n",
       "4       ColoRect-AdenoCA  "
      ]
     },
     "execution_count": 100,
     "metadata": {},
     "output_type": "execute_result"
    }
   ],
   "source": [
    "df_final.head()"
   ]
  },
  {
   "cell_type": "code",
   "execution_count": 19,
   "metadata": {},
   "outputs": [],
   "source": [
    "bucket_name = 'icgc-eh-bucket'\n",
    "object_key = \"results/aws/{object_id}.json\"\n"
   ]
  },
  {
   "cell_type": "code",
   "execution_count": 28,
   "metadata": {},
   "outputs": [
    {
     "name": "stdout",
     "output_type": "stream",
     "text": [
      "exams/ccf30f0f-0ec1-5aa2-8eb3-14cb1f4f58cd.json\n",
      "File downloaded successfully!\n",
      "exams/0b894f0a-0f97-5b6b-8585-9b15e49013b6.json\n",
      "File downloaded successfully!\n",
      "exams/124c8c1f-70a9-5335-a096-75f32cd76d75.json\n",
      "File downloaded successfully!\n",
      "exams/fdd88637-7046-5dd0-829e-42f3b3f4ddf9.json\n",
      "File downloaded successfully!\n",
      "exams/566b1bcc-97fd-59ca-9c8f-e98f5dea4152.json\n",
      "File downloaded successfully!\n"
     ]
    }
   ],
   "source": [
    "local_file_path = 'exams/{object_id}.json'  # Specify the desired local file path\n",
    "\n",
    "for obj_id in awsmani['object_id'].head(5):\n",
    "    try:\n",
    "        # Specify the desired local file path with the correct formatting\n",
    "        local_file_path = f'exams/{obj_id}.json'\n",
    "        print(local_file_path)\n",
    "        s3.download_file(bucket_name, object_key.format(object_id=obj_id), local_file_path)\n",
    "        print(\"File downloaded successfully!\")\n",
    "    except botocore.exceptions.ClientError as e:\n",
    "        if e.response['Error']['Code'] == \"404\":\n",
    "            print(\"The object does not exist.\")\n",
    "        else:\n",
    "            raise"
   ]
  },
  {
   "cell_type": "code",
   "execution_count": 31,
   "metadata": {},
   "outputs": [],
   "source": []
  },
  {
   "cell_type": "code",
   "execution_count": 35,
   "metadata": {},
   "outputs": [
    {
     "data": {
      "text/plain": [
       "AFF2       {'AlleleCount': 2, 'Coverage': 47.473684210526...\n",
       "AR         {'AlleleCount': 2, 'Coverage': 48.684210526315...\n",
       "ATN1       {'AlleleCount': 2, 'Coverage': 66.0, 'Fragment...\n",
       "ATXN1      {'AlleleCount': 2, 'Coverage': 57.052631578947...\n",
       "ATXN10     {'AlleleCount': 2, 'Coverage': 61.315789473684...\n",
       "ATXN2      {'AlleleCount': 2, 'Coverage': 55.684210526315...\n",
       "ATXN3      {'AlleleCount': 2, 'Coverage': 65.894736842105...\n",
       "ATXN7      {'AlleleCount': 2, 'Coverage': 54.368421052631...\n",
       "ATXN8OS    {'AlleleCount': 2, 'Coverage': 59.105263157894...\n",
       "C9ORF72    {'AlleleCount': 2, 'Coverage': 41.684210526315...\n",
       "Name: LocusResults, dtype: object"
      ]
     },
     "execution_count": 35,
     "metadata": {},
     "output_type": "execute_result"
    }
   ],
   "source": []
  },
  {
   "cell_type": "code",
   "execution_count": null,
   "metadata": {},
   "outputs": [],
   "source": []
  }
 ],
 "metadata": {
  "kernelspec": {
   "display_name": "cenv",
   "language": "python",
   "name": "python3"
  },
  "language_info": {
   "codemirror_mode": {
    "name": "ipython",
    "version": 3
   },
   "file_extension": ".py",
   "mimetype": "text/x-python",
   "name": "python",
   "nbconvert_exporter": "python",
   "pygments_lexer": "ipython3",
   "version": "3.10.9"
  },
  "orig_nbformat": 4
 },
 "nbformat": 4,
 "nbformat_minor": 2
}
