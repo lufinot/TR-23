{
 "cells": [
  {
   "cell_type": "code",
   "execution_count": 6,
   "metadata": {},
   "outputs": [],
   "source": [
    "import pandas as pd"
   ]
  },
  {
   "cell_type": "code",
   "execution_count": 7,
   "metadata": {},
   "outputs": [],
   "source": [
    "# Loading raw Manifests\n",
    "awsmani = pd.read_csv('raw_manifests/aws.tsv', sep='\\t')\n",
    "pdcmani = pd.read_csv('raw_manifests/pdc.tsv', sep='\\t')\n",
    "fullmani = pd.read_csv('raw_manifests/full.csv')\n",
    "fullmani.rename(columns={'donor_id/donor_count':'icgc_donor_id', 'Case (Tumor) or Control (Normal)':'type', }, inplace=True)\n",
    "pdcmani.rename(columns={'guid': 'object_id'}, inplace=True)\n",
    "\n"
   ]
  },
  {
   "cell_type": "code",
   "execution_count": 8,
   "metadata": {},
   "outputs": [
    {
     "data": {
      "text/plain": [
       "(1602, 5)"
      ]
     },
     "execution_count": 8,
     "metadata": {},
     "output_type": "execute_result"
    }
   ],
   "source": [
    "pdcmani.shape"
   ]
  },
  {
   "cell_type": "code",
   "execution_count": 10,
   "metadata": {},
   "outputs": [
    {
     "name": "stdout",
     "output_type": "stream",
     "text": [
      "histology_abbreviation\n",
      "Biliary-AdenoCA    1\n",
      "Bladder-TCC        1\n",
      "Bone-Leiomyo       1\n",
      "Breast-AdenoCA     1\n",
      "Liver-HCC          1\n",
      "Lymph-NOS          1\n",
      "Panc-AdenoCA       2\n",
      "Panc-Endocrine     1\n",
      "Prost-AdenoCA      1\n",
      "Skin-Melanoma      1\n",
      "Stomach-AdenoCA    2\n",
      "dtype: int64\n",
      "type\n",
      "case        3\n",
      "control    10\n",
      "dtype: int64\n"
     ]
    }
   ],
   "source": [
    "\n",
    "# Chacking for unpaired donor_ids\n",
    "unpaired_donors = fullmani.duplicated(subset=['icgc_donor_id'], keep=False)\n",
    "unpaireds = fullmani[~unpaired_donors]\n",
    "# print info about unpaireds\n",
    "print(unpaireds.groupby('histology_abbreviation').size())\n",
    "print(unpaireds.groupby('type').size())\n",
    "\n",
    "unpaireds.to_csv('data/unpaireds.csv', index=False)\n"
   ]
  },
  {
   "cell_type": "code",
   "execution_count": 11,
   "metadata": {},
   "outputs": [
    {
     "name": "stdout",
     "output_type": "stream",
     "text": [
      "histology_abbreviation\n",
      "Liver-HCC        20\n",
      "Myeloid-AML      14\n",
      "Myeloid-MDS       2\n",
      "Myeloid-MPN      45\n",
      "Panc-AdenoCA      4\n",
      "Prost-AdenoCA    97\n",
      "dtype: int64\n",
      "type\n",
      "case    182\n",
      "dtype: int64\n"
     ]
    }
   ],
   "source": [
    "\n",
    "# Checking for non-unique donor/type pairs\n",
    "duplicates = fullmani.duplicated(subset=['icgc_donor_id', 'type'], keep=False)\n",
    "dup_rows = fullmani[duplicates]\n",
    "# print info about non-unique donor/type pairs\n",
    "print(dup_rows.groupby('histology_abbreviation').size())\n",
    "print(dup_rows.groupby('type').size())\n",
    "\n",
    "dup_rows.to_csv('data/dup_rows.csv', index=False)\n"
   ]
  },
  {
   "cell_type": "code",
   "execution_count": 33,
   "metadata": {},
   "outputs": [],
   "source": [
    "\n",
    "# Combining the case-control pairs and adding the histology info\n",
    "def transform_data(data, full_data):\n",
    "    # pivot the dataframe\n",
    "    df = data.pivot(index='icgc_donor_id', columns='type', values=['object_id', 'file_name', 'sex'])\n",
    "    df.columns = [f'{j}_{i}' for i, j in df.columns]\n",
    "    df['sex'] = df['case_sex']\n",
    "    df.drop(columns=['case_sex', 'control_sex'], inplace=True)\n",
    "    df.reset_index(inplace=True)\n",
    "    # merge with full_data\n",
    "    final_df = pd.merge(df, full_data[['icgc_donor_id', 'histology_abbreviation']], on='icgc_donor_id', how='left')\n",
    "    return final_df\n",
    "    \n"
   ]
  },
  {
   "cell_type": "code",
   "execution_count": 34,
   "metadata": {},
   "outputs": [],
   "source": [
    "# Removing non-unique donor/type pairs and unpaireds\n",
    "awsmani_no_dupes = awsmani[~awsmani['icgc_donor_id'].isin(dup_rows['icgc_donor_id'])]\n",
    "awsmani_no_dupes = awsmani_no_dupes[~awsmani_no_dupes['icgc_donor_id'].isin(unpaireds['icgc_donor_id'])]\n",
    "\n",
    "pdcmani_no_dupes = pdcmani[~pdcmani['icgc_donor_id'].isin(dup_rows['icgc_donor_id'])]\n",
    "pdcmani_no_dupes = pdcmani_no_dupes[~pdcmani_no_dupes['icgc_donor_id'].isin(unpaireds['icgc_donor_id'])]\n"
   ]
  },
  {
   "cell_type": "code",
   "execution_count": 35,
   "metadata": {},
   "outputs": [],
   "source": [
    "fullmani = fullmani.drop_duplicates(subset='icgc_donor_id')"
   ]
  },
  {
   "cell_type": "code",
   "execution_count": 36,
   "metadata": {},
   "outputs": [],
   "source": [
    "\n",
    "awsmani_final = transform_data(awsmani_no_dupes, fullmani)\n",
    "pdcmani_final = transform_data(pdcmani_no_dupes, fullmani)\n"
   ]
  },
  {
   "cell_type": "code",
   "execution_count": 42,
   "metadata": {},
   "outputs": [],
   "source": [
    "# Saving modified manifests\n",
    "awsmani_final.to_csv('manifests/aws.tsv', sep='\\t', index=False)\n",
    "pdcmani_final.to_csv('manifests/pdc.tsv', sep='\\t', index=False)"
   ]
  },
  {
   "cell_type": "code",
   "execution_count": null,
   "metadata": {},
   "outputs": [],
   "source": []
  }
 ],
 "metadata": {
  "kernelspec": {
   "display_name": "cenv",
   "language": "python",
   "name": "python3"
  },
  "language_info": {
   "codemirror_mode": {
    "name": "ipython",
    "version": 3
   },
   "file_extension": ".py",
   "mimetype": "text/x-python",
   "name": "python",
   "nbconvert_exporter": "python",
   "pygments_lexer": "ipython3",
   "version": "3.10.9"
  },
  "orig_nbformat": 4
 },
 "nbformat": 4,
 "nbformat_minor": 2
}
