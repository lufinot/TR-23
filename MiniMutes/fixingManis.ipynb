{
 "cells": [
  {
   "cell_type": "code",
   "execution_count": 1,
   "metadata": {},
   "outputs": [],
   "source": [
    "import pandas as pd"
   ]
  },
  {
   "cell_type": "code",
   "execution_count": 50,
   "metadata": {},
   "outputs": [],
   "source": [
    "# Loading raw Manifests\n",
    "awsmani = pd.read_csv('raw_manifests/aws.tsv', sep='\\t')\n",
    "pdcmani = pd.read_csv('raw_manifests/pdc.tsv', sep='\\t')\n",
    "fullmani = pd.read_csv('raw_manifests/full.csv')\n",
    "fullmani.rename(columns={'donor_id/donor_count':'icgc_donor_id', 'Case (Tumor) or Control (Normal)':'type', }, inplace=True)\n",
    "pdcmani.rename(columns={'guid': 'object_id'}, inplace=True)\n",
    "\n"
   ]
  },
  {
   "cell_type": "code",
   "execution_count": 68,
   "metadata": {},
   "outputs": [
    {
     "name": "stdout",
     "output_type": "stream",
     "text": [
      "Number of highest-level elements: 170859\n"
     ]
    }
   ],
   "source": [
    "import json\n",
    "\n",
    "# Read the JSON file\n",
    "with open('manifests/variant_catalog_hg19.json', 'r') as file:\n",
    "    data = json.load(file)\n",
    "\n",
    "# Count the number of highest-level elements\n",
    "num_elements = len(data)\n",
    "\n",
    "# Print the result\n",
    "print(f\"Number of highest-level elements: {num_elements}\")\n"
   ]
  },
  {
   "cell_type": "code",
   "execution_count": 52,
   "metadata": {},
   "outputs": [
    {
     "name": "stdout",
     "output_type": "stream",
     "text": [
      "histology_abbreviation\n",
      "Biliary-AdenoCA    1\n",
      "Bladder-TCC        1\n",
      "Bone-Leiomyo       1\n",
      "Breast-AdenoCA     1\n",
      "Liver-HCC          1\n",
      "Lymph-NOS          1\n",
      "Panc-AdenoCA       2\n",
      "Panc-Endocrine     1\n",
      "Prost-AdenoCA      1\n",
      "Skin-Melanoma      1\n",
      "Stomach-AdenoCA    2\n",
      "dtype: int64\n",
      "type\n",
      "case        3\n",
      "control    10\n",
      "dtype: int64\n"
     ]
    }
   ],
   "source": [
    "\n",
    "# Chacking for unpaired donor_ids\n",
    "unpaired_donors = fullmani.duplicated(subset=['icgc_donor_id'], keep=False)\n",
    "unpaireds = fullmani[~unpaired_donors]\n",
    "# print info about unpaireds\n",
    "print(unpaireds.groupby('histology_abbreviation').size())\n",
    "print(unpaireds.groupby('type').size())\n",
    "\n",
    "unpaireds.to_csv('data/unpaireds.csv', index=False)\n"
   ]
  },
  {
   "cell_type": "code",
   "execution_count": 53,
   "metadata": {},
   "outputs": [],
   "source": [
    "fullmani = fullmani[unpaired_donors]"
   ]
  },
  {
   "cell_type": "code",
   "execution_count": 61,
   "metadata": {},
   "outputs": [
    {
     "name": "stdout",
     "output_type": "stream",
     "text": [
      "histology_abbreviation\n",
      "Liver-HCC        10\n",
      "Myeloid-AML       7\n",
      "Myeloid-MDS       1\n",
      "Myeloid-MPN      24\n",
      "Panc-AdenoCA      2\n",
      "Prost-AdenoCA    76\n",
      "dtype: int64\n",
      "type\n",
      "case    120\n",
      "dtype: int64\n"
     ]
    }
   ],
   "source": [
    "\n",
    "# Checking for non-unique donor/type pairs, select last occurence\n",
    "duplicates = fullmani.duplicated(subset=['icgc_donor_id', 'type'], keep='last')\n",
    "dup_rows = fullmani[duplicates]\n",
    "# print info about non-unique donor/type pairs\n",
    "print(dup_rows.groupby('histology_abbreviation').size())\n",
    "print(dup_rows.groupby('type').size())\n",
    "\n",
    "dup_rows.to_csv('data/dup_rows.csv', index=False)\n"
   ]
  },
  {
   "cell_type": "code",
   "execution_count": 64,
   "metadata": {},
   "outputs": [],
   "source": [
    "dup_rows.groupby('icgc_donor_id').size()\n",
    "drops = pd.concat([dup_rows, unpaireds])"
   ]
  },
  {
   "cell_type": "code",
   "execution_count": 67,
   "metadata": {},
   "outputs": [],
   "source": [
    "drops.head()\n",
    "drops.to_csv('data/drops.csv', index=False)"
   ]
  },
  {
   "cell_type": "code",
   "execution_count": 48,
   "metadata": {},
   "outputs": [
    {
     "data": {
      "text/html": [
       "<div>\n",
       "<style scoped>\n",
       "    .dataframe tbody tr th:only-of-type {\n",
       "        vertical-align: middle;\n",
       "    }\n",
       "\n",
       "    .dataframe tbody tr th {\n",
       "        vertical-align: top;\n",
       "    }\n",
       "\n",
       "    .dataframe thead th {\n",
       "        text-align: right;\n",
       "    }\n",
       "</style>\n",
       "<table border=\"1\" class=\"dataframe\">\n",
       "  <thead>\n",
       "    <tr style=\"text-align: right;\">\n",
       "      <th></th>\n",
       "      <th>histology_abbreviation</th>\n",
       "      <th>repo_code</th>\n",
       "      <th>file_id</th>\n",
       "      <th>object_id</th>\n",
       "      <th>file_format</th>\n",
       "      <th>file_name</th>\n",
       "      <th>file_size</th>\n",
       "      <th>Specimen ID</th>\n",
       "      <th>index_object_id</th>\n",
       "      <th>icgc_donor_id</th>\n",
       "      <th>project_id/project_count</th>\n",
       "      <th>study</th>\n",
       "      <th>type</th>\n",
       "      <th>Is MSI</th>\n",
       "      <th>MS Mutation Rate</th>\n",
       "    </tr>\n",
       "  </thead>\n",
       "  <tbody>\n",
       "  </tbody>\n",
       "</table>\n",
       "</div>"
      ],
      "text/plain": [
       "Empty DataFrame\n",
       "Columns: [histology_abbreviation, repo_code, file_id, object_id, file_format, file_name, file_size, Specimen ID, index_object_id, icgc_donor_id, project_id/project_count, study, type, Is MSI, MS Mutation Rate]\n",
       "Index: []"
      ]
     },
     "execution_count": 48,
     "metadata": {},
     "output_type": "execute_result"
    }
   ],
   "source": [
    "dup_dropped[~dup_dropped.duplicated(subset=['icgc_donor_id'], keep=False)]"
   ]
  },
  {
   "cell_type": "code",
   "execution_count": 49,
   "metadata": {},
   "outputs": [
    {
     "data": {
      "text/plain": [
       "(4998, 15)"
      ]
     },
     "execution_count": 49,
     "metadata": {},
     "output_type": "execute_result"
    }
   ],
   "source": [
    "dup_dropped.shape"
   ]
  },
  {
   "cell_type": "code",
   "execution_count": 33,
   "metadata": {},
   "outputs": [],
   "source": [
    "\n",
    "# Combining the case-control pairs and adding the histology info\n",
    "def transform_data(data, full_data):\n",
    "    # pivot the dataframe\n",
    "    df = data.pivot(index='icgc_donor_id', columns='type', values=['object_id', 'file_name', 'sex'])\n",
    "    df.columns = [f'{j}_{i}' for i, j in df.columns]\n",
    "    df['sex'] = df['case_sex']\n",
    "    df.drop(columns=['case_sex', 'control_sex'], inplace=True)\n",
    "    df.reset_index(inplace=True)\n",
    "    # merge with full_data\n",
    "    final_df = pd.merge(df, full_data[['icgc_donor_id', 'histology_abbreviation']], on='icgc_donor_id', how='left')\n",
    "    return final_df\n",
    "    \n"
   ]
  },
  {
   "cell_type": "code",
   "execution_count": 34,
   "metadata": {},
   "outputs": [],
   "source": [
    "# Removing non-unique donor/type pairs and unpaireds\n",
    "awsmani_no_dupes = awsmani[~awsmani['icgc_donor_id'].isin(dup_rows['icgc_donor_id'])]\n",
    "awsmani_no_dupes = awsmani_no_dupes[~awsmani_no_dupes['icgc_donor_id'].isin(unpaireds['icgc_donor_id'])]\n",
    "\n",
    "pdcmani_no_dupes = pdcmani[~pdcmani['icgc_donor_id'].isin(dup_rows['icgc_donor_id'])]\n",
    "pdcmani_no_dupes = pdcmani_no_dupes[~pdcmani_no_dupes['icgc_donor_id'].isin(unpaireds['icgc_donor_id'])]\n"
   ]
  },
  {
   "cell_type": "code",
   "execution_count": 35,
   "metadata": {},
   "outputs": [],
   "source": [
    "fullmani = fullmani.drop_duplicates(subset='icgc_donor_id')"
   ]
  },
  {
   "cell_type": "code",
   "execution_count": 36,
   "metadata": {},
   "outputs": [],
   "source": [
    "\n",
    "awsmani_final = transform_data(awsmani_no_dupes, fullmani)\n",
    "pdcmani_final = transform_data(pdcmani_no_dupes, fullmani)\n"
   ]
  },
  {
   "cell_type": "code",
   "execution_count": 42,
   "metadata": {},
   "outputs": [],
   "source": [
    "# Saving modified manifests\n",
    "awsmani_final.to_csv('manifests/aws.tsv', sep='\\t', index=False)\n",
    "pdcmani_final.to_csv('manifests/pdc.tsv', sep='\\t', index=False)"
   ]
  },
  {
   "cell_type": "code",
   "execution_count": null,
   "metadata": {},
   "outputs": [],
   "source": []
  }
 ],
 "metadata": {
  "kernelspec": {
   "display_name": "cenv",
   "language": "python",
   "name": "python3"
  },
  "language_info": {
   "codemirror_mode": {
    "name": "ipython",
    "version": 3
   },
   "file_extension": ".py",
   "mimetype": "text/x-python",
   "name": "python",
   "nbconvert_exporter": "python",
   "pygments_lexer": "ipython3",
   "version": "3.10.9"
  },
  "orig_nbformat": 4
 },
 "nbformat": 4,
 "nbformat_minor": 2
}
